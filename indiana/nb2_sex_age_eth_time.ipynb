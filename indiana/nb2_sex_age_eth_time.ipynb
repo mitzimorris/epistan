{
 "cells": [
  {
   "cell_type": "code",
   "execution_count": null,
   "id": "d0dd8458-008d-414f-ae74-2f4b0dbcacee",
   "metadata": {},
   "outputs": [],
   "source": [
    "import os\n",
    "import numpy as np\n",
    "import pandas as pd\n",
    "from cmdstanpy import CmdStanModel\n",
    "\n",
    "def set_formats(digits: int, width: int) -> None:\n",
    "  \"\"\" set display precision, output width \"\"\"\n",
    "  np.set_printoptions(precision=digits)\n",
    "  np.set_printoptions(suppress=True)\n",
    "  np.set_printoptions(threshold=np.inf)\n",
    "  pd.set_option('display.precision', digits)\n",
    "  format_string = '{{:.{}f}}'.format(digits)\n",
    "  pd.options.display.float_format = format_string.format\n",
    "  pd.set_option('display.max_rows', None)\n",
    "  pd.set_option('display.max_columns', None)\n",
    "  pd.set_option('display.width', width)\n",
    "\n",
    "def summary_by_var(summary_df: pd.DataFrame, varname: str) -> None:\n",
    "    row_names = list(summary_df.index)\n",
    "    var_rows = [row_names.index(name) for name in row_names if name.startswith(varname)]\n",
    "    print(summary_df.iloc[var_rows,:])\n",
    "\n",
    "set_formats(2, 100)"
   ]
  },
  {
   "cell_type": "code",
   "execution_count": null,
   "id": "a88e194b-5863-45e2-bc06-85be5807d87d",
   "metadata": {},
   "outputs": [],
   "source": [
    "# plotting libs\n",
    "import matplotlib.pyplot as plt\n",
    "import plotnine as p9\n",
    "\n",
    "# suppress plotnine warnings\n",
    "import warnings\n",
    "warnings.filterwarnings('ignore')\n",
    "\n",
    "# setup plotnine look and feel\n",
    "p9.theme_set(\n",
    "  p9.theme_grey() + \n",
    "  p9.theme(text=p9.element_text(size=10),\n",
    "        plot_title=p9.element_text(size=14),\n",
    "        axis_title_x=p9.element_text(size=14),\n",
    "        axis_title_y=p9.element_text(size=14),\n",
    "        axis_text_x=p9.element_text(size=12),\n",
    "        axis_text_y=p9.element_text(size=12)\n",
    "       )\n",
    ")\n",
    "xlabels_90 = p9.theme(axis_text_x = p9.element_text(angle=90, hjust=1))"
   ]
  },
  {
   "cell_type": "markdown",
   "id": "0107642f-c97e-43c6-8987-96369d30c056",
   "metadata": {},
   "source": [
    "Can we fit the Indiana data to simple Stan models; run posterior predictive check"
   ]
  },
  {
   "cell_type": "code",
   "execution_count": null,
   "id": "7399875c-6dbe-48c6-9744-1dcaa5870271",
   "metadata": {},
   "outputs": [],
   "source": [
    "df = pd.read_csv(\"data/data_tests_sex_age_eth_time.csv\")\n",
    "in_data = df.to_dict(orient='list')\n",
    "\n",
    "in_data['N_age'] = max(in_data['age'])\n",
    "in_data['N_eth'] = max(in_data['eth'])\n",
    "in_data['N_time'] = max(in_data['time'])\n",
    "in_data['N'] = len(in_data['tests'])\n",
    "\n",
    "in_data['sens'] = 0.7\n",
    "in_data['spec']=0.995\n",
    "in_data['intercept_prior_mean']=-4\n",
    "in_data['intercept_prior_scale']=2.5\n"
   ]
  },
  {
   "cell_type": "code",
   "execution_count": null,
   "id": "7a663bb7-2eb8-4574-873f-ebf56876674d",
   "metadata": {},
   "outputs": [],
   "source": [
    "for var, value in in_data.items():\n",
    "    print(var, value)"
   ]
  },
  {
   "cell_type": "code",
   "execution_count": null,
   "id": "6d22bf5b-1f2a-44a9-9cbb-8c14edfe77a1",
   "metadata": {},
   "outputs": [],
   "source": [
    "naive_4_mod = CmdStanModel(stan_file=\"stan/binomial_4preds_naive.stan\")\n",
    "\n",
    "naive_4_path = naive_4_mod.pathfinder(data=in_data)\n",
    "path_inits = naive_4_path.create_inits()\n",
    "naive_4_fit = naive_4_mod.sample(data=in_data, inits=path_inits, iter_warmup=1500)"
   ]
  },
  {
   "cell_type": "code",
   "execution_count": null,
   "id": "156d9e18-b6bd-4680-98dd-37493a99329a",
   "metadata": {},
   "outputs": [],
   "source": [
    "print(naive_4_fit.diagnose())"
   ]
  },
  {
   "cell_type": "code",
   "execution_count": null,
   "id": "895facf7-55fd-49e4-9eb6-0a25500243eb",
   "metadata": {},
   "outputs": [],
   "source": [
    "n4_summary = naive_4_fit.summary()\n",
    "print(summary_by_var(n4_summary, \"alpha\"))\n",
    "print(summary_by_var(n4_summary, \"sigma\"))\n",
    "print(summary_by_var(n4_summary, \"beta_age[\"))\n",
    "print(summary_by_var(n4_summary, \"beta_eth[\"))\n",
    "print(summary_by_var(n4_summary, \"beta_time[\"))"
   ]
  },
  {
   "cell_type": "code",
   "execution_count": null,
   "id": "3dc4a53d-e00f-4ac8-be90-44a09a9f5522",
   "metadata": {
    "jupyter": {
     "source_hidden": true
    },
    "scrolled": true
   },
   "outputs": [],
   "source": [
    "s2z_4_mod = CmdStanModel(stan_file=\"stan/binomial_4preds_s2zh.stan\")"
   ]
  },
  {
   "cell_type": "code",
   "execution_count": null,
   "id": "afc3a3d9-27f0-48df-9eba-e085ebc5ef20",
   "metadata": {
    "jupyter": {
     "source_hidden": true
    },
    "scrolled": true
   },
   "outputs": [],
   "source": [
    "if (in_data['sex'][0] == 0):\n",
    "    in_data['sex'] = [x + 1 for x in in_data['sex']]"
   ]
  },
  {
   "cell_type": "code",
   "execution_count": null,
   "id": "97cf169e-4f24-4d18-84ec-dcd2f07031c1",
   "metadata": {
    "jupyter": {
     "source_hidden": true
    }
   },
   "outputs": [],
   "source": [
    "s2z_4_path = s2z_4_mod.pathfinder(data=in_data)\n",
    "path_inits = s2z_4_path.create_inits()\n",
    "s2z_4_fit = s2z_4_mod.sample(data=in_data, inits=path_inits)"
   ]
  },
  {
   "cell_type": "code",
   "execution_count": null,
   "id": "3f4dd576-c753-4d45-9878-eaa867a38c9f",
   "metadata": {
    "jupyter": {
     "source_hidden": true
    }
   },
   "outputs": [],
   "source": [
    "s2z4_summary = s2z_4_fit.summary()\n",
    "print(summary_by_var(s2z4_summary, \"alpha\"))\n",
    "print(summary_by_var(s2z4_summary, \"sigma\"))\n",
    "print(summary_by_var(s2z4_summary, \"beta_sex[\"))\n",
    "print(summary_by_var(s2z4_summary, \"beta_age[\"))\n",
    "print(summary_by_var(s2z4_summary, \"beta_eth[\"))\n",
    "print(summary_by_var(s2z4_summary, \"beta_time[\"))"
   ]
  },
  {
   "cell_type": "code",
   "execution_count": null,
   "id": "c887171a-1810-4993-b9f6-9457c53d35ca",
   "metadata": {},
   "outputs": [],
   "source": [
    "y_rep_pd = naive_4_fit.draws_pd(vars='y_rep').iloc[:, -30:]\n",
    "s2z_4_y_rep_pd = s2z_4_fit.draws_pd(vars='y_rep').iloc[:, -30:]\n",
    "\n",
    "true_y = {col: in_data['pos_tests'][i] for i, col in enumerate(y_rep_pd.columns)}\n",
    "y_rep_long = y_rep_pd.melt(var_name='y_rep', value_name='value')\n",
    "y_rep_long['y'] = y_rep_long['y_rep'].map(true_y)\n",
    "\n",
    "s2z_4_y_rep_long = s2z_4_y_rep_pd.melt(var_name='y_rep', value_name='value')\n",
    "s2z_4_y_rep_long['y'] = s2z_4_y_rep_long['y_rep'].map(true_y)\n",
    "\n",
    "(p9.ggplot()\n",
    "    + p9.geom_boxplot(data=y_rep_long, mapping=p9.aes(x='y_rep',y='value'), width=1, alpha=0.5, outlier_alpha=0.2, color='darkblue')\n",
    "    + p9.geom_boxplot(data=s2z_4_y_rep_long, mapping=p9.aes(x='y_rep',y='value'), width=0.85, alpha=0.5, outlier_alpha=0.2, color='darkorange')\n",
    "    + p9.geom_point(data=y_rep_long, mapping=p9.aes(x='y_rep', y='y'), color='purple', size=5)\n",
    "    + xlabels_90\n",
    "    + p9.theme(figure_size=(24,16))\n",
    ")"
   ]
  },
  {
   "cell_type": "markdown",
   "id": "d04925e6-4b17-47af-a049-b63cd2310714",
   "metadata": {},
   "source": [
    "Hard sum-to-zero constraint provides higher ESS, no divergences, all R-hat values 1.00."
   ]
  }
 ],
 "metadata": {
  "kernelspec": {
   "display_name": "Python 3 (ipykernel)",
   "language": "python",
   "name": "python3"
  },
  "language_info": {
   "codemirror_mode": {
    "name": "ipython",
    "version": 3
   },
   "file_extension": ".py",
   "mimetype": "text/x-python",
   "name": "python",
   "nbconvert_exporter": "python",
   "pygments_lexer": "ipython3",
   "version": "3.12.2"
  }
 },
 "nbformat": 4,
 "nbformat_minor": 5
}
