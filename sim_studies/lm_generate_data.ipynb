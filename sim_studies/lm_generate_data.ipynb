{
 "cells": [
  {
   "cell_type": "code",
   "execution_count": null,
   "id": "00bce191-07d4-41b3-bec2-196289bd1579",
   "metadata": {},
   "outputs": [],
   "source": [
    "#!/usr/bin/env python\n",
    "import os\n",
    "import numpy as np\n",
    "import pandas as pd\n",
    "from cmdstanpy import CmdStanModel, write_stan_json\n",
    "from notebook_helpers import set_formats, gen_data"
   ]
  },
  {
   "cell_type": "code",
   "execution_count": null,
   "id": "b905ae0e-70ee-4bd4-bc57-22b3c40da659",
   "metadata": {},
   "outputs": [],
   "source": [
    "set_formats(2, 90)"
   ]
  },
  {
   "cell_type": "markdown",
   "id": "1cfe7d8e-8fdc-42d0-b601-30ab6b11ccc4",
   "metadata": {},
   "source": [
    "### Bootstrapping the process:   create linear model dataset\n",
    "\n",
    "The simple linear model needs data.  To create some, we run the data generating program."
   ]
  },
  {
   "cell_type": "code",
   "execution_count": null,
   "id": "f1a75be2-dc48-4a92-bc28-9cbef9d30b95",
   "metadata": {
    "scrolled": true
   },
   "outputs": [],
   "source": [
    "sim_data = gen_data(\"linear_model_dgp.stan\", {\"N\":100})"
   ]
  },
  {
   "cell_type": "markdown",
   "id": "d440c449-8c20-4cfd-b52f-f65118adb430",
   "metadata": {},
   "source": [
    "Sanity check:  examine first draw."
   ]
  },
  {
   "cell_type": "code",
   "execution_count": null,
   "id": "bf1e110b-47cc-4b14-bdd1-d4db9629d513",
   "metadata": {
    "scrolled": true
   },
   "outputs": [],
   "source": [
    "print(sim_data.keys())\n",
    "for name, arr in sim_data.items():\n",
    "    print(name, arr.shape, arr[0])"
   ]
  },
  {
   "cell_type": "markdown",
   "id": "8f445442-3ae3-41b4-acf8-6f667c81231c",
   "metadata": {},
   "source": [
    "If we haven't already done so, start by creating input file for `linear_model.stan`\n",
    "which requires variables \"N\", \"x\", and \"y\".\n",
    "\n",
    "Also save the data generating parameters 'alpha_sim', 'beta_sim', and 'sigma_sim'.\n",
    "\n",
    "(Note:  because was want to create a dataset where the model as specified fits the data, avoid creating a dataset from a draw where these values are very small or very large.)"
   ]
  },
  {
   "cell_type": "code",
   "execution_count": null,
   "id": "de8969bb-564f-4928-983c-aa148ca79943",
   "metadata": {},
   "outputs": [],
   "source": [
    "sim_data['sigma_sim'][:10], sim_data['alpha_sim'][:10], sim_data['beta_sim'][:10]"
   ]
  },
  {
   "cell_type": "code",
   "execution_count": null,
   "id": "83347c82-a9a0-4c02-9bec-40414be2bc59",
   "metadata": {},
   "outputs": [],
   "source": [
    "linear_data = {key: value[4] for key, value in sim_data.items()}\n",
    "\n",
    "linear_data['x'] = linear_data['x_sim']\n",
    "linear_data['y'] = linear_data['y_sim']\n",
    "del linear_data['y_sim']\n",
    "del linear_data['x_sim']\n",
    "linear_data"
   ]
  },
  {
   "cell_type": "code",
   "execution_count": null,
   "id": "e9b2d6c0-977a-45d5-a955-864cd1f4c99b",
   "metadata": {},
   "outputs": [],
   "source": [
    "# write_stan_json(\"linear_data.json\", linear_data)\n"
   ]
  },
  {
   "cell_type": "code",
   "execution_count": null,
   "id": "4a1f8061-b8a0-420a-bacb-c12bcefc1db9",
   "metadata": {},
   "outputs": [],
   "source": []
  }
 ],
 "metadata": {
  "kernelspec": {
   "display_name": "Python 3 (ipykernel)",
   "language": "python",
   "name": "python3"
  },
  "language_info": {
   "codemirror_mode": {
    "name": "ipython",
    "version": 3
   },
   "file_extension": ".py",
   "mimetype": "text/x-python",
   "name": "python",
   "nbconvert_exporter": "python",
   "pygments_lexer": "ipython3",
   "version": "3.12.2"
  }
 },
 "nbformat": 4,
 "nbformat_minor": 5
}
